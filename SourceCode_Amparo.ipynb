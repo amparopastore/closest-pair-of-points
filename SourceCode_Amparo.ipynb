{
 "cells": [
  {
   "cell_type": "markdown",
   "id": "15d3c1d7-6528-48e5-92e1-c76ef82be6ee",
   "metadata": {},
   "source": [
    "**Author:** Amparo Godoy Pastore <br>\n",
    "**Date:** July 21, 2024\n",
    "# Programming Project"
   ]
  },
  {
   "cell_type": "markdown",
   "id": "4b1792d6-f556-4b4c-b8d6-3c9c31099151",
   "metadata": {},
   "source": [
    "## The Problem: Finding the Closest Pair of Points\n",
    "\n",
    "> Given n points P1, P2, …, P1 in a plane, the task is to find the pair of points that is closest together. In this case we will measure the RT for the following input sizes: n=5000, n=10000, n=15000, n=20000, …, n=50000. More specifically, n takes 10 values from 5k to 50k with increment of 5k."
   ]
  },
  {
   "cell_type": "markdown",
   "id": "dda8c083-ecc0-48e9-a84d-9dea2d29eab5",
   "metadata": {},
   "source": [
    "## Preliminaries and Helper Functions"
   ]
  },
  {
   "cell_type": "code",
   "execution_count": 19,
   "id": "6b3fac54-d936-4a5d-a460-4a3120018714",
   "metadata": {},
   "outputs": [],
   "source": [
    "import math\n",
    "import numpy as np\n",
    "import time"
   ]
  },
  {
   "cell_type": "code",
   "execution_count": 26,
   "id": "47d7a082-fb72-4eeb-b394-2f091ac1b4d0",
   "metadata": {},
   "outputs": [],
   "source": [
    "# HELPER FUNCTIONS\n",
    "def get_distance(p1, p2):\n",
    "    \"\"\"Compute distance between two points.\"\"\"\n",
    "    return math.sqrt((p1[0] - p2[0]) ** 2 + (p1[1] - p2[1]) ** 2)\n",
    "\n",
    "def generate_unique_points(n):\n",
    "    \"\"\"Generate n unique random points.\"\"\"\n",
    "    points = set()\n",
    "    while len(points) < n:\n",
    "        point = (np.random.randint(0, 100000), np.random.randint(0, 100000))\n",
    "        points.add(point)\n",
    "    return list(points)\n",
    "\n",
    "def measure_runtime(algorithm, P):\n",
    "    \"\"\"Measure the runtime of the given algorithm with the provided points.\"\"\"\n",
    "    start_time = time.time()\n",
    "    result = algorithm(P)\n",
    "    end_time = time.time()\n",
    "    return end_time - start_time"
   ]
  },
  {
   "cell_type": "markdown",
   "id": "b8495bab-ca48-44fe-95fe-1dc3ac97de87",
   "metadata": {},
   "source": [
    "## Brute-Force Algorithm"
   ]
  },
  {
   "cell_type": "code",
   "execution_count": 27,
   "id": "c0fa2655-73ed-44d4-8921-4c6bda334f74",
   "metadata": {},
   "outputs": [],
   "source": [
    "def BruteForceClosestPoints(P):\n",
    "    \"\"\"\n",
    "    Brute Force Algorithm for Closest Points Problem\n",
    "    ------------------------------------------------\n",
    "    Arguments:\n",
    "    - P: a list of n points n >=2\n",
    "    Returns:\n",
    "    - Indexes of the two closest points\n",
    "    \"\"\"\n",
    "    d_min = float('inf')\n",
    "    pair = (None, None)\n",
    "    n = len(P)\n",
    "    for i in range(n):\n",
    "        for j in range(i + 1, n):\n",
    "            distance = get_distance(P[i], P[j])\n",
    "            if distance < d_min:\n",
    "                d_min = distance\n",
    "                index_1, index_2 = i, j\n",
    "    return index_1, index_2"
   ]
  },
  {
   "cell_type": "markdown",
   "id": "f05cb694-ab8a-4f3d-9e6d-d34e91c930a5",
   "metadata": {},
   "source": [
    "## Divide-and-Conquer Algorithm"
   ]
  },
  {
   "cell_type": "code",
   "execution_count": 33,
   "id": "a615be04-0ce9-42ec-ba49-a6c22c21ec28",
   "metadata": {},
   "outputs": [],
   "source": [
    "def DivideAndConqClosestPair(P):\n",
    "    \"\"\"\n",
    "    Divide and Conquer Algorithm for Closest Point Problem\n",
    "    ------------------------------------------------------\n",
    "    Arguments:\n",
    "    - P: a list of n points n >=2\n",
    "    Returns:\n",
    "    - (p0, p1): pair of closest points\n",
    "    \"\"\"\n",
    "    # construct Px and Py \n",
    "    Px = sorted(P, key=lambda p: p[0])\n",
    "    Py = sorted(P, key=lambda p: p[1])\n",
    "    # recursion\n",
    "    return DivideAndConqClosestPair_Rec(Px, Py)\n",
    "    \n",
    "def DivideAndConqClosestPair_Rec(Px, Py):\n",
    "    \"\"\"Recursive part of ALG2\"\"\"\n",
    "    # base case: if P is less than or equal to 3 use brute force\n",
    "    n = len(Px)\n",
    "    if n <= 3:\n",
    "        index1, index2 = BruteForceClosestPoints(Px)\n",
    "        return (Px[index1], Px[index2])\n",
    "\n",
    "    # divide: construct Qx, Qy, Rx, Ry\n",
    "    mid = n // 2\n",
    "    mid_x = Px[mid][0]\n",
    "\n",
    "    Qx = Px[:mid]\n",
    "    Rx = Px[mid:]\n",
    "    Qy = []\n",
    "    Ry = []\n",
    "\n",
    "    for point in Py:\n",
    "        if point[0] <= mid_x:\n",
    "            Qy.append(point)\n",
    "        else:\n",
    "            Ry.append(point)\n",
    "    \n",
    "    # conquer: recursively find closest pair in Q and R\n",
    "    (q0, q1) = DivideAndConqClosestPair_Rec(Qx, Qy)\n",
    "    (r0, r1) = DivideAndConqClosestPair_Rec(Rx, Ry)\n",
    "    \n",
    "    # combine\n",
    "    dq = get_distance(q0, q1)\n",
    "    dr = get_distance(r0, r1)\n",
    "    delta = min(dq, dr)\n",
    "\n",
    "    x_star = Qx[-1][0] # max x-coordinate of a point in set Q\n",
    "\n",
    "    Sy = []\n",
    "    for p in Py:\n",
    "        if x_star - delta <= p[0] <= x_star + delta:\n",
    "            Sy.append(p)\n",
    "\n",
    "    min_d = float('inf')\n",
    "    pair = (None, None) # s and s'\n",
    "    for i, s in enumerate(Sy):\n",
    "        for j in range(1, 16):\n",
    "            if i + j < len(Sy):\n",
    "                next_point = Sy[i + j]\n",
    "                d = get_distance(s, next_point)\n",
    "                if d < min_d:\n",
    "                    min_d = d\n",
    "                    pair = (s, next_point)\n",
    "\n",
    "    if min_d < delta:\n",
    "        return (pair[0], pair[1])\n",
    "    elif dq < dr:\n",
    "        return (q0, q1)\n",
    "    else:\n",
    "        return (r0, r1)"
   ]
  },
  {
   "cell_type": "markdown",
   "id": "c59d1be8-2f2f-4378-a183-f7ddcf070e5d",
   "metadata": {},
   "source": [
    "## Test Case"
   ]
  },
  {
   "cell_type": "code",
   "execution_count": 52,
   "id": "c157bfb3-6984-4220-8892-4ce610a8127f",
   "metadata": {},
   "outputs": [
    {
     "name": "stdout",
     "output_type": "stream",
     "text": [
      "The closest pair of points are: (24752, 45398) and (24767, 45434)\n",
      "The closest pair of points are: (24767, 45434) and (24752, 45398)\n"
     ]
    }
   ],
   "source": [
    "points = generate_unique_points(1000)\n",
    "\n",
    "cp_dc = DivideAndConqClosestPair(points)\n",
    "print(f\"The closest pair of points are: {cp_dc[0]} and {cp_dc[1]}\")\n",
    "\n",
    "i, j = BruteForceClosestPoints(points)\n",
    "print(f\"The closest pair of points are: {points[i]} and {points[j]}\")"
   ]
  },
  {
   "cell_type": "code",
   "execution_count": 53,
   "id": "c2b58316-bc16-468c-9b4f-b58131f6781d",
   "metadata": {},
   "outputs": [
    {
     "name": "stdout",
     "output_type": "stream",
     "text": [
      "RT Divide and Conquer: 0.020483970642089844\n",
      "RT Brute Force: 0.45816969871520996\n"
     ]
    }
   ],
   "source": [
    "dc_time =  measure_runtime(DivideAndConqClosestPair, points)\n",
    "bf_time =  measure_runtime(BruteForceClosestPoints, points)\n",
    "\n",
    "print(f\"RT Divide and Conquer: {dc_time}\")\n",
    "print(f\"RT Brute Force: {bf_time}\")"
   ]
  },
  {
   "cell_type": "markdown",
   "id": "a79dce15-6fcc-48c2-b666-51de3c931602",
   "metadata": {},
   "source": [
    "## Experiments"
   ]
  },
  {
   "cell_type": "code",
   "execution_count": 25,
   "id": "a1b4deb9-b43b-4017-85af-072f205b5715",
   "metadata": {},
   "outputs": [
    {
     "name": "stdout",
     "output_type": "stream",
     "text": [
      "n = 5000:\n",
      "  Average runtime for Divide and Conquer: 0.1170 seconds\n",
      "  Average runtime for Brute Force: 8.0329 seconds\n",
      "n = 10000:\n",
      "  Average runtime for Divide and Conquer: 0.2420 seconds\n",
      "  Average runtime for Brute Force: 28.9916 seconds\n",
      "n = 15000:\n",
      "  Average runtime for Divide and Conquer: 0.3661 seconds\n",
      "  Average runtime for Brute Force: 62.2239 seconds\n",
      "n = 20000:\n",
      "  Average runtime for Divide and Conquer: 0.5167 seconds\n",
      "  Average runtime for Brute Force: 112.6450 seconds\n",
      "n = 25000:\n",
      "  Average runtime for Divide and Conquer: 0.8353 seconds\n",
      "  Average runtime for Brute Force: 206.2605 seconds\n",
      "n = 30000:\n",
      "  Average runtime for Divide and Conquer: 1.0079 seconds\n",
      "  Average runtime for Brute Force: 327.8413 seconds\n",
      "n = 35000:\n",
      "  Average runtime for Divide and Conquer: 1.1992 seconds\n",
      "  Average runtime for Brute Force: 448.5602 seconds\n",
      "n = 40000:\n",
      "  Average runtime for Divide and Conquer: 1.3723 seconds\n",
      "  Average runtime for Brute Force: 583.7606 seconds\n",
      "n = 45000:\n",
      "  Average runtime for Divide and Conquer: 1.5420 seconds\n",
      "  Average runtime for Brute Force: 748.0283 seconds\n",
      "n = 50000:\n",
      "  Average runtime for Divide and Conquer: 1.7104 seconds\n",
      "  Average runtime for Brute Force: 923.6039 seconds\n"
     ]
    }
   ],
   "source": [
    "def run_experiments():\n",
    "    sizes = range(5000, 50001, 5000)  \n",
    "    iterations = 10\n",
    "    \n",
    "    for n in sizes:\n",
    "        total_dc_time = 0\n",
    "        total_bf_time = 0\n",
    "\n",
    "        for _ in range(iterations):\n",
    "            points = generate_unique_points(n)\n",
    "\n",
    "            # RT for D and C algorithm\n",
    "            dc_time = measure_runtime(DivideAndConqClosestPair, points)\n",
    "            total_dc_time += dc_time\n",
    "\n",
    "            # RT for Brute Force algorithm\n",
    "            bf_time = measure_runtime(BruteForceClosestPoints, points)\n",
    "            total_bf_time += bf_time\n",
    "\n",
    "        avg_dc_time = total_dc_time / iterations\n",
    "        avg_bf_time = total_bf_time / iterations\n",
    "\n",
    "        print(f\"n = {n}:\")\n",
    "        print(f\"  Average runtime for Divide and Conquer: {avg_dc_time:.4f} seconds\")\n",
    "        print(f\"  Average runtime for Brute Force: {avg_bf_time:.4f} seconds\")\n",
    "\n",
    "run_experiments()"
   ]
  }
 ],
 "metadata": {
  "kernelspec": {
   "display_name": "Python 3 (ipykernel)",
   "language": "python",
   "name": "python3"
  },
  "language_info": {
   "codemirror_mode": {
    "name": "ipython",
    "version": 3
   },
   "file_extension": ".py",
   "mimetype": "text/x-python",
   "name": "python",
   "nbconvert_exporter": "python",
   "pygments_lexer": "ipython3",
   "version": "3.11.7"
  }
 },
 "nbformat": 4,
 "nbformat_minor": 5
}
